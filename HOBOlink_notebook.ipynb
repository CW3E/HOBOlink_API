{
 "cells": [
  {
   "cell_type": "code",
   "execution_count": 14,
   "metadata": {},
   "outputs": [],
   "source": [
    "# import modules\n",
    "import requests\n",
    "from datetime import datetime\n",
    "from HOBOlink_parse import get_new_token, parse_data"
   ]
  },
  {
   "cell_type": "code",
   "execution_count": null,
   "metadata": {},
   "outputs": [],
   "source": [
    "# Input your info for user ID, SN for logger, and client credentials\n",
    "# HOBOlink account and device info\n",
    "user_id = input(\"Enter user ID found on HOBOlink:\") # user ID found on HOBOlink\n",
    "logger_id = input(\"Enter SN from logger:\") # SN from logger\n",
    "site_id = input(\"Enter site ID or name you wish to name CSV file:\") #nickname given to device on HOBOlink\n",
    "\n",
    "#user_id = 'XXXXX' # user ID found on HOBOlink\n",
    "#logger_id = 'XXXXXXXX' # SN from logger\n",
    "#site_id = \"XXX\" #nickname given to device on HOBOlink\n",
    "\n",
    "#HOBOlink authentication server\n",
    "# url provided by HOBOlink Web Services V3 Developer's Guide\n",
    "auth_server_url = \"https://webservice.hobolink.com/ws/auth/token\"\n",
    "\n",
    "# credentials provided by Onset Tech support\n",
    "client_id = input(\"Enter client ID provoded by Onset:\")\n",
    "client_secret = input(\"Enter client secret provided by Onset:\")\n",
    "\n",
    "#client_id = 'XXXXXX'\n",
    "#client_secret = 'XXXXXXXXXXXXXX'\n",
    "\n",
    "# file name\n",
    "daily_file_csv = site_id + \".csv\""
   ]
  },
  {
   "cell_type": "code",
   "execution_count": null,
   "metadata": {},
   "outputs": [],
   "source": [
    "# provide date timestamp for desired data pull\n",
    "print(\"Enter date timestamp in the following format:\")\n",
    "print(\"YYYY-mm-dd HH:MM:SS\")\n",
    "start_dt = input(\"Enter start date timestamp (UTC):\")\n",
    "end_dt = input(\"Enter end date timestamp (UTC):\")\n",
    "\n",
    "#start_dt = '2020-01-01 00:00:00'\n",
    "#end_dt = '2020-01-01 00:00:00'\n",
    "\n",
    "date_format = '%Y-%m-%d %H:%M:%S'\n",
    "\n",
    "start_dt = datetime.strptime(start_dt, date_format)\n",
    "start_min =  start_dt.strftime(\"%M\")\n",
    "start_sec = start_dt.strftime(\"%S\")\n",
    "\n",
    "end_dt = datetime.strptime(end_dt, date_format)\n",
    "end_min =  end_dt.strftime(\"%M\")\n",
    "end_sec = end_dt.strftime(\"%S\")\n",
    "\n",
    "start_time = start_dt.strftime(\"&start_date_time=%Y-%m-%d+%H\") + \"%3A\" + start_min + \"%3A\" + start_sec  # start of the hour\n",
    "end_time = end_dt.strftime(\"&end_date_time=%Y-%m-%d+%H\") + \"%3A\" + end_min + \"%3A\" + end_sec # end of the hour\n",
    "# Difference in time\n",
    "time_diff = end_dt.replace(microsecond=0, second=0, minute=55) - start_dt\n",
    "# Difference in time (hours) for data being pulled\n",
    "hours = time_diff.total_seconds() / 3600\n",
    "t = int(hours * 12) # expected values - data is recorded in 5 minute intervals"
   ]
  },
  {
   "cell_type": "code",
   "execution_count": null,
   "metadata": {},
   "outputs": [],
   "source": [
    "# HOBOlink url to get data from file endpoints\n",
    "hobolink_api_url = \"https://webservice.hobolink.com/ws/data/file/JSON/user/\" + user_id + \"?loggers=\" + logger_id + start_time + end_time\n",
    "\n",
    "# Obtain a token before calling the HOBOlink API for the first time\n",
    "token = get_new_token(auth_server_url, client_id, client_secret)\n",
    "\n",
    "while True:\n",
    "#  Use the API with the newly acquired token\n",
    "    api_call_headers = {'Authorization': 'Bearer ' + token} # HTTP Authentication required for HOBOlink\n",
    "    api_call_response = requests.get(hobolink_api_url, headers=api_call_headers, verify=True) # requests a representation of the specified resource\n",
    "    \n",
    "# Create a new token incase it expires\n",
    "# Token from Hobolink will expire after 10 minutes, or if another one is expired\n",
    "    if\tapi_call_response.status_code == 401: #http 401 code will appear if token is expired\n",
    "        token = get_new_token(auth_server_url, client_id, client_secret)\n",
    "    else:\n",
    "        # Convert data to dict\n",
    "        print(\"Successfully connected to HOBOlink!\")\n",
    "        data = api_call_response.json() # data from HOBOlink will be in JSON JavaScript Object Notation\n",
    "\n",
    "    break"
   ]
  },
  {
   "cell_type": "code",
   "execution_count": null,
   "metadata": {},
   "outputs": [],
   "source": [
    "# check size of data packet\n",
    "if len(data[\"observation_list\"]) == t :\n",
    "    print(\"New data is available, and is complete.\")\n",
    "    parse_data(data, daily_file_csv) # pull and store data\n",
    "elif len(data[\"observation_list\"]) == 0 :\n",
    "    print(\"No data new data since the last recorded timestamp.\")\n",
    "elif 0 < len(data[\"observation_list\"]) < t :\n",
    "    print(\"There is new data, but may be incomplete.\")\n",
    "    parse_data(data, daily_file_csv) # pull and store data\n",
    "elif len(data[\"observation_list\"]) > t :\n",
    "    print(\"The data packet is greater than what is expected and duplicates may exist for some timestamps.\")\n",
    "    parse_data(data, daily_file_csv) # pull and store data\n",
    "    \n",
    "# End of script"
   ]
  }
 ],
 "metadata": {
  "kernelspec": {
   "display_name": "Python 3",
   "language": "python",
   "name": "python3"
  },
  "language_info": {
   "codemirror_mode": {
    "name": "ipython",
    "version": 3
   },
   "file_extension": ".py",
   "mimetype": "text/x-python",
   "name": "python",
   "nbconvert_exporter": "python",
   "pygments_lexer": "ipython3",
   "version": "3.11.4"
  },
  "orig_nbformat": 4
 },
 "nbformat": 4,
 "nbformat_minor": 2
}
